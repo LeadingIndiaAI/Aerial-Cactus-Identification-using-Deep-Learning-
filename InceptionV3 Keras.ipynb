{
 "cells": [
  {
   "cell_type": "code",
   "execution_count": 1,
   "metadata": {},
   "outputs": [
    {
     "name": "stdout",
     "output_type": "stream",
     "text": [
      "['test', 'train', 'train.csv', 'sample_submission.csv']\n"
     ]
    }
   ],
   "source": [
    "import numpy as np # linear algebra\n",
    "import pandas as pd # data processing, CSV file I/O (e.g. pd.read_csv)\n",
    "\n",
    "import os\n",
    "print(os.listdir(\"../input\"))"
   ]
  },
  {
   "cell_type": "code",
   "execution_count": 2,
   "metadata": {},
   "outputs": [
    {
     "name": "stdout",
     "output_type": "stream",
     "text": [
      "Training images : \n",
      "['711c8a3efdfd2d7fa004b880970b8b6d.jpg', 'da197af684a4210c8173133a401a8b41.jpg', 'bcba2dfd2645c77e5803c7f028466abe.jpg', '1b29452f094c9e23f204b4dce356adcb.jpg', '4a627bf44c88f8bfd1f509b31fde0cc7.jpg', '15de1f86c0d0b569ce981ea9e6c82b99.jpg', 'f204268d009670aca50e65e4aed82462.jpg', 'fe329535336125c4d52b195f1a85fdd0.jpg', '33ff0f6eec09dc7fcc7622eb63413865.jpg', 'b24c1271f120ca2ab98b81fbdc602274.jpg']\n",
      "\n",
      "Testing images : \n",
      "['6a571b6df250e9575fb82f8904c325a1.jpg', '2edb0bf826248b088d57e22799464c41.jpg', 'ea9422f63363a362ba6f482617006e76.jpg', '1021509e308bf12f71a01cac2ddca97f.jpg', '5eacbb413e5cd4e73cb7b1936758abf1.jpg', '861dccb4950b74108760daae0a1e016b.jpg', '6472fab8708bcd522836a9f1c6e9aae6.jpg', '3a77f9113b60c62b7d30c5f41828ab6b.jpg', '305d9cefe442e30abae64d84ecc8340e.jpg', '71957d3a60ca371e441fb6ff5ee6379f.jpg']\n"
     ]
    }
   ],
   "source": [
    "base_dir=\"../input/\"\n",
    "train_dir=os.path.join(base_dir,\"train/train\")\n",
    "test_dir=os.path.join(base_dir,\"test/test\")\n",
    "print(\"Training images : \\n{}\".format(os.listdir(train_dir)[:10]), end='\\n\\n')\n",
    "print(\"Testing images : \\n{}\".format(os.listdir(test_dir)[:10]))\n",
    "testing_dir=os.path.join(base_dir,\"test\")\n",
    "                      "
   ]
  },
  {
   "cell_type": "code",
   "execution_count": 3,
   "metadata": {},
   "outputs": [
    {
     "name": "stdout",
     "output_type": "stream",
     "text": [
      "                                     id has_cactus\n",
      "0  0004be2cfeaba1c0361d39e2b000257b.jpg        yes\n",
      "1  000c8a36845c0208e833c79c1bffedd1.jpg        yes\n",
      "2  000d1e9a533f62e55c289303b072733d.jpg        yes\n",
      "3  0011485b40695e9138e92d0b3fb55128.jpg        yes\n",
      "4  0014d7a11e90b62848904c1418fc8cf2.jpg        yes\n"
     ]
    }
   ],
   "source": [
    "train_dataframe = pd.read_csv(\"../input/train.csv\")\n",
    "train_dataframe[\"has_cactus\"] = np.where(train_dataframe[\"has_cactus\"] == 1, \"yes\", \"no\")\n",
    "print(train_dataframe.head())"
   ]
  },
  {
   "cell_type": "code",
   "execution_count": 4,
   "metadata": {},
   "outputs": [
    {
     "name": "stderr",
     "output_type": "stream",
     "text": [
      "Using TensorFlow backend.\n"
     ]
    }
   ],
   "source": [
    "import keras\n",
    "from keras.models import Sequential\n",
    "from keras.layers import Flatten, Dense, Dropout, GlobalAveragePooling2D\n",
    "from keras.preprocessing.image import ImageDataGenerator\n",
    "from keras import applications"
   ]
  },
  {
   "cell_type": "code",
   "execution_count": 5,
   "metadata": {},
   "outputs": [
    {
     "name": "stdout",
     "output_type": "stream",
     "text": [
      "Found 15750 images belonging to 2 classes.\n",
      "Found 1750 images belonging to 2 classes.\n"
     ]
    }
   ],
   "source": [
    "train_datagen = ImageDataGenerator(\n",
    "    rescale=1/255,\n",
    "    validation_split=0.10,\n",
    "    rotation_range=40,\n",
    "    width_shift_range=0.2,\n",
    "    height_shift_range=0.2,\n",
    "    shear_range=0.2,\n",
    "    zoom_range=0.2,\n",
    "    horizontal_flip=True,\n",
    "    fill_mode='nearest'\n",
    ")\n",
    "\n",
    "train_generator = train_datagen.flow_from_dataframe(\n",
    "    dataframe = train_dataframe,\n",
    "    directory = train_dir,\n",
    "    x_col=\"id\",\n",
    "    y_col=\"has_cactus\",\n",
    "    target_size=(75,75),\n",
    "    subset=\"training\",\n",
    "    batch_size=250,\n",
    "    shuffle=True,\n",
    "    class_mode=\"binary\"\n",
    ")\n",
    "\n",
    "valid_generator = train_datagen.flow_from_dataframe(\n",
    "    dataframe = train_dataframe,\n",
    "    directory = train_dir,\n",
    "    x_col=\"id\",\n",
    "    y_col=\"has_cactus\",\n",
    "    target_size=(75,75),\n",
    "    subset=\"validation\",\n",
    "    batch_size=125,\n",
    "    shuffle=True,\n",
    "    class_mode=\"binary\"\n",
    ")"
   ]
  },
  {
   "cell_type": "code",
   "execution_count": 6,
   "metadata": {},
   "outputs": [
    {
     "name": "stdout",
     "output_type": "stream",
     "text": [
      "Found 4000 images belonging to 1 classes.\n"
     ]
    }
   ],
   "source": [
    "test_datagen = ImageDataGenerator(\n",
    "    rescale=1/255\n",
    ")\n",
    "\n",
    "test_generator = test_datagen.flow_from_directory(\n",
    "    testing_dir,\n",
    "    target_size=(75,75),\n",
    "    batch_size=1,\n",
    "    shuffle=False,\n",
    "    class_mode=None\n",
    ")"
   ]
  },
  {
   "cell_type": "code",
   "execution_count": 7,
   "metadata": {},
   "outputs": [
    {
     "name": "stdout",
     "output_type": "stream",
     "text": [
      "WARNING:tensorflow:From /opt/conda/lib/python3.6/site-packages/tensorflow/python/framework/op_def_library.py:263: colocate_with (from tensorflow.python.framework.ops) is deprecated and will be removed in a future version.\n",
      "Instructions for updating:\n",
      "Colocations handled automatically by placer.\n",
      "Downloading data from https://github.com/fchollet/deep-learning-models/releases/download/v0.5/inception_v3_weights_tf_dim_ordering_tf_kernels_notop.h5\n",
      "87916544/87910968 [==============================] - 3s 0us/step\n"
     ]
    }
   ],
   "source": [
    "prenet = applications.inception_v3.InceptionV3(\n",
    "    include_top = False,\n",
    "    weights = 'imagenet',\n",
    "    input_shape = (75, 75, 3)\n",
    ")\n",
    "model = Sequential()\n",
    "model.add(prenet)\n",
    "model.add(GlobalAveragePooling2D())\n",
    "model.add(Dense(units = 120, activation='relu'))\n",
    "model.add(Dense(units = 84, activation = 'relu'))\n",
    "model.add(Dense(units = 1, activation='sigmoid'))"
   ]
  },
  {
   "cell_type": "code",
   "execution_count": 8,
   "metadata": {},
   "outputs": [],
   "source": [
    "model.compile(optimizer=keras.optimizers.Adam(lr=0.0001), loss='binary_crossentropy', metrics=['accuracy'])"
   ]
  },
  {
   "cell_type": "code",
   "execution_count": 9,
   "metadata": {},
   "outputs": [
    {
     "name": "stdout",
     "output_type": "stream",
     "text": [
      "WARNING:tensorflow:From /opt/conda/lib/python3.6/site-packages/tensorflow/python/ops/math_ops.py:3066: to_int32 (from tensorflow.python.ops.math_ops) is deprecated and will be removed in a future version.\n",
      "Instructions for updating:\n",
      "Use tf.cast instead.\n",
      "Epoch 1/100\n",
      "63/63 [==============================] - 62s 991ms/step - loss: 0.2155 - acc: 0.9074 - val_loss: 0.0548 - val_acc: 0.9834\n",
      "Epoch 2/100\n",
      "63/63 [==============================] - 34s 533ms/step - loss: 0.0441 - acc: 0.9853 - val_loss: 0.0422 - val_acc: 0.9840\n",
      "Epoch 3/100\n",
      "63/63 [==============================] - 35s 557ms/step - loss: 0.0254 - acc: 0.9919 - val_loss: 0.0216 - val_acc: 0.9914\n",
      "Epoch 4/100\n",
      "63/63 [==============================] - 35s 563ms/step - loss: 0.0198 - acc: 0.9933 - val_loss: 0.0282 - val_acc: 0.9909\n",
      "Epoch 5/100\n",
      "63/63 [==============================] - 35s 556ms/step - loss: 0.0162 - acc: 0.9939 - val_loss: 0.0228 - val_acc: 0.9966\n",
      "Epoch 6/100\n",
      "63/63 [==============================] - 35s 553ms/step - loss: 0.0159 - acc: 0.9952 - val_loss: 0.0143 - val_acc: 0.9954\n",
      "Epoch 7/100\n",
      "63/63 [==============================] - 35s 557ms/step - loss: 0.0126 - acc: 0.9961 - val_loss: 0.0148 - val_acc: 0.9937\n",
      "Epoch 8/100\n",
      "63/63 [==============================] - 35s 552ms/step - loss: 0.0112 - acc: 0.9968 - val_loss: 0.0170 - val_acc: 0.9949\n",
      "Epoch 9/100\n",
      "63/63 [==============================] - 35s 555ms/step - loss: 0.0073 - acc: 0.9970 - val_loss: 0.0177 - val_acc: 0.9954\n",
      "Epoch 10/100\n",
      "63/63 [==============================] - 35s 554ms/step - loss: 0.0076 - acc: 0.9978 - val_loss: 0.0149 - val_acc: 0.9971\n",
      "Epoch 11/100\n",
      "63/63 [==============================] - 35s 554ms/step - loss: 0.0075 - acc: 0.9975 - val_loss: 0.0220 - val_acc: 0.9960\n",
      "Epoch 12/100\n",
      "63/63 [==============================] - 35s 553ms/step - loss: 0.0071 - acc: 0.9978 - val_loss: 0.0203 - val_acc: 0.9960\n",
      "Epoch 13/100\n",
      "63/63 [==============================] - 35s 548ms/step - loss: 0.0088 - acc: 0.9970 - val_loss: 0.0068 - val_acc: 0.9977\n",
      "Epoch 14/100\n",
      "63/63 [==============================] - 35s 550ms/step - loss: 0.0071 - acc: 0.9977 - val_loss: 0.0090 - val_acc: 0.9971\n",
      "Epoch 15/100\n",
      "63/63 [==============================] - 34s 545ms/step - loss: 0.0053 - acc: 0.9978 - val_loss: 0.0150 - val_acc: 0.9954\n",
      "Epoch 16/100\n",
      "63/63 [==============================] - 35s 550ms/step - loss: 0.0053 - acc: 0.9984 - val_loss: 0.0155 - val_acc: 0.9954\n",
      "Epoch 17/100\n",
      "63/63 [==============================] - 34s 546ms/step - loss: 0.0055 - acc: 0.9978 - val_loss: 0.0096 - val_acc: 0.9971\n",
      "Epoch 18/100\n",
      "63/63 [==============================] - 35s 551ms/step - loss: 0.0044 - acc: 0.9987 - val_loss: 0.0109 - val_acc: 0.9960\n",
      "Epoch 19/100\n",
      "63/63 [==============================] - 35s 549ms/step - loss: 0.0049 - acc: 0.9982 - val_loss: 0.0157 - val_acc: 0.9954\n",
      "Epoch 20/100\n",
      "63/63 [==============================] - 35s 553ms/step - loss: 0.0051 - acc: 0.9985 - val_loss: 0.0128 - val_acc: 0.9977\n",
      "Epoch 21/100\n",
      "63/63 [==============================] - 35s 550ms/step - loss: 0.0036 - acc: 0.9988 - val_loss: 0.0089 - val_acc: 0.9971\n",
      "Epoch 22/100\n",
      "63/63 [==============================] - 34s 546ms/step - loss: 0.0045 - acc: 0.9984 - val_loss: 0.0165 - val_acc: 0.9966\n",
      "Epoch 23/100\n",
      "63/63 [==============================] - 34s 545ms/step - loss: 0.0028 - acc: 0.9992 - val_loss: 0.0195 - val_acc: 0.9960\n",
      "Epoch 24/100\n",
      "63/63 [==============================] - 34s 547ms/step - loss: 0.0029 - acc: 0.9992 - val_loss: 0.0227 - val_acc: 0.9949\n",
      "Epoch 25/100\n",
      "63/63 [==============================] - 34s 547ms/step - loss: 0.0030 - acc: 0.9992 - val_loss: 0.0237 - val_acc: 0.9966\n",
      "Epoch 26/100\n",
      "63/63 [==============================] - 35s 549ms/step - loss: 0.0048 - acc: 0.9984 - val_loss: 0.0141 - val_acc: 0.9966\n",
      "Epoch 27/100\n",
      "63/63 [==============================] - 35s 554ms/step - loss: 0.0039 - acc: 0.9988 - val_loss: 0.0097 - val_acc: 0.9977\n",
      "Epoch 28/100\n",
      "63/63 [==============================] - 35s 549ms/step - loss: 0.0030 - acc: 0.9990 - val_loss: 0.0211 - val_acc: 0.9954\n",
      "Epoch 29/100\n",
      "63/63 [==============================] - 35s 549ms/step - loss: 0.0042 - acc: 0.9985 - val_loss: 0.0132 - val_acc: 0.9971\n",
      "Epoch 30/100\n",
      "63/63 [==============================] - 34s 547ms/step - loss: 0.0031 - acc: 0.9990 - val_loss: 0.0091 - val_acc: 0.9971\n",
      "Epoch 31/100\n",
      "63/63 [==============================] - 34s 546ms/step - loss: 0.0018 - acc: 0.9994 - val_loss: 0.0085 - val_acc: 0.9966\n",
      "Epoch 32/100\n",
      "63/63 [==============================] - 34s 547ms/step - loss: 0.0028 - acc: 0.9990 - val_loss: 0.0142 - val_acc: 0.9971\n",
      "Epoch 33/100\n",
      "63/63 [==============================] - 35s 548ms/step - loss: 0.0032 - acc: 0.9989 - val_loss: 0.0088 - val_acc: 0.9971\n",
      "Epoch 34/100\n",
      "63/63 [==============================] - 34s 547ms/step - loss: 0.0024 - acc: 0.9991 - val_loss: 0.0038 - val_acc: 0.9989\n",
      "Epoch 35/100\n",
      "63/63 [==============================] - 35s 550ms/step - loss: 0.0037 - acc: 0.9988 - val_loss: 0.0182 - val_acc: 0.9943\n",
      "Epoch 36/100\n",
      "63/63 [==============================] - 35s 552ms/step - loss: 0.0016 - acc: 0.9994 - val_loss: 0.0104 - val_acc: 0.9977\n",
      "Epoch 37/100\n",
      "63/63 [==============================] - 34s 546ms/step - loss: 0.0025 - acc: 0.9992 - val_loss: 0.0067 - val_acc: 0.9977\n",
      "Epoch 38/100\n",
      "63/63 [==============================] - 35s 554ms/step - loss: 0.0033 - acc: 0.9988 - val_loss: 0.0170 - val_acc: 0.9960\n",
      "Epoch 39/100\n",
      "63/63 [==============================] - 35s 548ms/step - loss: 0.0029 - acc: 0.9992 - val_loss: 0.0192 - val_acc: 0.9960\n",
      "Epoch 40/100\n",
      "63/63 [==============================] - 35s 550ms/step - loss: 0.0026 - acc: 0.9993 - val_loss: 0.0088 - val_acc: 0.9977\n",
      "Epoch 41/100\n",
      "63/63 [==============================] - 34s 546ms/step - loss: 0.0023 - acc: 0.9994 - val_loss: 0.0135 - val_acc: 0.9971\n",
      "Epoch 42/100\n",
      "63/63 [==============================] - 35s 548ms/step - loss: 0.0043 - acc: 0.9983 - val_loss: 0.0148 - val_acc: 0.9977\n",
      "Epoch 43/100\n",
      "63/63 [==============================] - 35s 549ms/step - loss: 0.0032 - acc: 0.9987 - val_loss: 0.0068 - val_acc: 0.9977\n",
      "Epoch 44/100\n",
      "63/63 [==============================] - 34s 547ms/step - loss: 0.0021 - acc: 0.9995 - val_loss: 0.0079 - val_acc: 0.9977\n",
      "Epoch 45/100\n",
      "63/63 [==============================] - 35s 552ms/step - loss: 0.0014 - acc: 0.9996 - val_loss: 0.0134 - val_acc: 0.9977\n",
      "Epoch 46/100\n",
      "63/63 [==============================] - 34s 546ms/step - loss: 0.0021 - acc: 0.9992 - val_loss: 0.0077 - val_acc: 0.9983\n",
      "Epoch 47/100\n",
      "63/63 [==============================] - 35s 554ms/step - loss: 0.0020 - acc: 0.9994 - val_loss: 0.0122 - val_acc: 0.9977\n",
      "Epoch 48/100\n",
      "63/63 [==============================] - 35s 549ms/step - loss: 0.0024 - acc: 0.9985 - val_loss: 0.0057 - val_acc: 0.9977\n",
      "Epoch 49/100\n",
      "63/63 [==============================] - 35s 551ms/step - loss: 0.0014 - acc: 0.9995 - val_loss: 0.0118 - val_acc: 0.9977\n",
      "Epoch 50/100\n",
      "63/63 [==============================] - 35s 548ms/step - loss: 0.0026 - acc: 0.9994 - val_loss: 0.0128 - val_acc: 0.9977\n",
      "Epoch 51/100\n",
      "63/63 [==============================] - 35s 552ms/step - loss: 0.0019 - acc: 0.9993 - val_loss: 0.0151 - val_acc: 0.9966\n",
      "Epoch 52/100\n",
      "63/63 [==============================] - 35s 548ms/step - loss: 6.7517e-04 - acc: 0.9997 - val_loss: 0.0115 - val_acc: 0.9960\n",
      "Epoch 53/100\n",
      "63/63 [==============================] - 34s 548ms/step - loss: 0.0016 - acc: 0.9995 - val_loss: 0.0049 - val_acc: 0.9989\n",
      "Epoch 54/100\n",
      "63/63 [==============================] - 35s 556ms/step - loss: 0.0035 - acc: 0.9990 - val_loss: 0.0084 - val_acc: 0.9977\n",
      "Epoch 55/100\n",
      "63/63 [==============================] - 34s 547ms/step - loss: 0.0019 - acc: 0.9992 - val_loss: 0.0202 - val_acc: 0.9971\n",
      "Epoch 56/100\n",
      "63/63 [==============================] - 35s 554ms/step - loss: 0.0016 - acc: 0.9993 - val_loss: 0.0059 - val_acc: 0.9983\n",
      "Epoch 57/100\n",
      "63/63 [==============================] - 34s 545ms/step - loss: 0.0025 - acc: 0.9990 - val_loss: 0.0130 - val_acc: 0.9971\n",
      "Epoch 58/100\n",
      "63/63 [==============================] - 35s 551ms/step - loss: 0.0037 - acc: 0.9990 - val_loss: 0.0081 - val_acc: 0.9977\n",
      "Epoch 59/100\n",
      "63/63 [==============================] - 34s 547ms/step - loss: 0.0058 - acc: 0.9978 - val_loss: 0.0066 - val_acc: 0.9977\n",
      "Epoch 60/100\n",
      "63/63 [==============================] - 35s 549ms/step - loss: 0.0040 - acc: 0.9983 - val_loss: 0.0104 - val_acc: 0.9977\n",
      "Epoch 61/100\n",
      "63/63 [==============================] - 35s 551ms/step - loss: 0.0020 - acc: 0.9991 - val_loss: 0.0065 - val_acc: 0.9983\n",
      "Epoch 62/100\n",
      "63/63 [==============================] - 35s 550ms/step - loss: 0.0019 - acc: 0.9993 - val_loss: 0.0021 - val_acc: 0.9994\n",
      "Epoch 63/100\n",
      "63/63 [==============================] - 35s 555ms/step - loss: 0.0023 - acc: 0.9993 - val_loss: 0.0261 - val_acc: 0.9937\n",
      "Epoch 64/100\n",
      "63/63 [==============================] - 35s 549ms/step - loss: 0.0019 - acc: 0.9996 - val_loss: 0.0190 - val_acc: 0.9960\n",
      "Epoch 65/100\n",
      "63/63 [==============================] - 35s 553ms/step - loss: 7.2747e-04 - acc: 0.9997 - val_loss: 0.0138 - val_acc: 0.9966\n",
      "Epoch 66/100\n",
      "63/63 [==============================] - 34s 547ms/step - loss: 0.0013 - acc: 0.9996 - val_loss: 0.0140 - val_acc: 0.9989\n",
      "Epoch 67/100\n",
      "63/63 [==============================] - 34s 545ms/step - loss: 5.7972e-04 - acc: 0.9998 - val_loss: 0.0143 - val_acc: 0.9977\n",
      "Epoch 68/100\n",
      "63/63 [==============================] - 35s 548ms/step - loss: 0.0030 - acc: 0.9991 - val_loss: 0.0121 - val_acc: 0.9989\n",
      "Epoch 69/100\n",
      "63/63 [==============================] - 35s 548ms/step - loss: 0.0017 - acc: 0.9993 - val_loss: 0.0082 - val_acc: 0.9983\n",
      "Epoch 70/100\n",
      "63/63 [==============================] - 35s 550ms/step - loss: 0.0014 - acc: 0.9994 - val_loss: 0.0099 - val_acc: 0.9977\n",
      "Epoch 71/100\n",
      "63/63 [==============================] - 34s 546ms/step - loss: 0.0034 - acc: 0.9991 - val_loss: 0.0170 - val_acc: 0.9971\n",
      "Epoch 72/100\n",
      "63/63 [==============================] - 35s 556ms/step - loss: 0.0022 - acc: 0.9995 - val_loss: 0.0118 - val_acc: 0.9966\n",
      "Epoch 73/100\n",
      "63/63 [==============================] - 35s 550ms/step - loss: 7.4675e-04 - acc: 0.9999 - val_loss: 0.0149 - val_acc: 0.9966\n",
      "Epoch 74/100\n",
      "63/63 [==============================] - 35s 551ms/step - loss: 0.0037 - acc: 0.9986 - val_loss: 0.0133 - val_acc: 0.9977\n",
      "Epoch 75/100\n",
      "63/63 [==============================] - 35s 552ms/step - loss: 0.0024 - acc: 0.9996 - val_loss: 0.0068 - val_acc: 0.9989\n",
      "Epoch 76/100\n",
      "63/63 [==============================] - 35s 549ms/step - loss: 0.0016 - acc: 0.9996 - val_loss: 0.0051 - val_acc: 0.9989\n",
      "Epoch 77/100\n",
      "63/63 [==============================] - 35s 553ms/step - loss: 0.0016 - acc: 0.9996 - val_loss: 0.0342 - val_acc: 0.9937\n",
      "Epoch 78/100\n",
      "63/63 [==============================] - 35s 550ms/step - loss: 0.0019 - acc: 0.9994 - val_loss: 0.0100 - val_acc: 0.9977\n",
      "Epoch 79/100\n",
      "63/63 [==============================] - 35s 554ms/step - loss: 0.0014 - acc: 0.9992 - val_loss: 0.0036 - val_acc: 0.9989\n",
      "Epoch 80/100\n",
      "63/63 [==============================] - 34s 547ms/step - loss: 0.0013 - acc: 0.9996 - val_loss: 0.0103 - val_acc: 0.9960\n",
      "Epoch 81/100\n",
      "63/63 [==============================] - 35s 553ms/step - loss: 0.0023 - acc: 0.9994 - val_loss: 0.0102 - val_acc: 0.9983\n",
      "Epoch 82/100\n",
      "63/63 [==============================] - 35s 556ms/step - loss: 0.0011 - acc: 0.9997 - val_loss: 0.0138 - val_acc: 0.9971\n",
      "Epoch 83/100\n",
      "63/63 [==============================] - 35s 550ms/step - loss: 0.0022 - acc: 0.9994 - val_loss: 0.0092 - val_acc: 0.9989\n",
      "Epoch 84/100\n",
      "63/63 [==============================] - 35s 552ms/step - loss: 0.0018 - acc: 0.9996 - val_loss: 0.0051 - val_acc: 0.9971\n",
      "Epoch 85/100\n",
      "63/63 [==============================] - 35s 548ms/step - loss: 0.0029 - acc: 0.9992 - val_loss: 0.0099 - val_acc: 0.9983\n",
      "Epoch 86/100\n",
      "63/63 [==============================] - 35s 551ms/step - loss: 0.0019 - acc: 0.9994 - val_loss: 0.0121 - val_acc: 0.9977\n",
      "Epoch 87/100\n",
      "63/63 [==============================] - 34s 546ms/step - loss: 6.1956e-04 - acc: 0.9998 - val_loss: 0.0157 - val_acc: 0.9977\n",
      "Epoch 88/100\n",
      "63/63 [==============================] - 34s 545ms/step - loss: 0.0025 - acc: 0.9992 - val_loss: 0.0087 - val_acc: 0.9989\n",
      "Epoch 89/100\n",
      "63/63 [==============================] - 35s 548ms/step - loss: 5.6212e-04 - acc: 0.9997 - val_loss: 0.0161 - val_acc: 0.9971\n",
      "Epoch 90/100\n",
      "63/63 [==============================] - 35s 551ms/step - loss: 0.0019 - acc: 0.9994 - val_loss: 0.0041 - val_acc: 0.9989\n",
      "Epoch 91/100\n",
      "63/63 [==============================] - 35s 552ms/step - loss: 0.0014 - acc: 0.9994 - val_loss: 0.0115 - val_acc: 0.9977\n",
      "Epoch 92/100\n",
      "63/63 [==============================] - 35s 549ms/step - loss: 0.0019 - acc: 0.9995 - val_loss: 0.0033 - val_acc: 0.9983\n",
      "Epoch 93/100\n",
      "38/63 [=================>............] - ETA: 13s - loss: 4.9976e-04 - acc: 1.0000"
     ]
    }
   ],
   "source": [
    "history = model.fit_generator(\n",
    "    train_generator,\n",
    "    epochs = 100,\n",
    "    steps_per_epoch = 63,\n",
    "    validation_data = valid_generator,\n",
    "    validation_steps = 14\n",
    ")\n"
   ]
  },
  {
   "cell_type": "code",
   "execution_count": 10,
   "metadata": {},
   "outputs": [
    {
     "data": {
      "image/png": "[encoded data removed]",
      "text/plain": [
       "<Figure size 432x288 with 1 Axes>"
      ]
     },
     "metadata": {},
     "output_type": "display_data"
    },
    {
     "data": {
      "image/png": "[encoded data removed]",
      "text/plain": [
       "<Figure size 432x288 with 1 Axes>"
      ]
     },
     "metadata": {},
     "output_type": "display_data"
    }
   ],
   "source": [
    "acc, loss = history.history['acc'], history.history['loss']\n",
    "val_acc, val_loss = history.history['val_acc'], history.history['val_loss']\n",
    "\n",
    "epochs = len(acc)\n",
    "\n",
    "import matplotlib.pyplot as plt\n",
    "\n",
    "plt.plot(range(epochs), acc, color='red', label='Training Accuracy')\n",
    "plt.plot(range(epochs), val_acc, color='green', label='Validation Accuracy')\n",
    "plt.legend()\n",
    "plt.title('Accuracy over Training')\n",
    "plt.xlabel('Epochs')\n",
    "plt.ylabel('Accuracy')\n",
    "plt.show()\n",
    "\n",
    "plt.plot(range(epochs), loss, color='red', label='Training Loss')\n",
    "plt.plot(range(epochs), val_loss, color='green', label='Validation Loss')\n",
    "plt.legend()\n",
    "plt.title('Loss over Training')\n",
    "plt.xlabel('Epochs')\n",
    "plt.ylabel('Loss')\n",
    "plt.show()"
   ]
  },
  {
   "cell_type": "code",
   "execution_count": 11,
   "metadata": {},
   "outputs": [],
   "source": [
    "preds = model.predict_generator(\n",
    "    test_generator,\n",
    "    steps=len(test_generator.filenames)\n",
    ")"
   ]
  },
  {
   "cell_type": "code",
   "execution_count": 12,
   "metadata": {},
   "outputs": [
    {
     "name": "stdout",
     "output_type": "stream",
     "text": [
      "                                     id    has_cactus\n",
      "0  000940378805c44108d287872b2f04ce.jpg  9.999976e-01\n",
      "1  0017242f54ececa4512b4d7937d1e21e.jpg  9.999908e-01\n",
      "2  001ee6d8564003107853118ab87df407.jpg  2.258025e-16\n",
      "3  002e175c3c1e060769475f52182583d0.jpg  5.433649e-09\n",
      "4  0036e44a7e8f7218e9bc7bf8137e4943.jpg  9.999862e-01\n"
     ]
    }
   ],
   "source": [
    "image_ids = [name.split('/')[-1] for name in test_generator.filenames]\n",
    "preds = preds.flatten()\n",
    "data = {'id': image_ids, 'has_cactus':preds} \n",
    "submission = pd.DataFrame(data)\n",
    "print(submission.head())"
   ]
  },
  {
   "cell_type": "code",
   "execution_count": 13,
   "metadata": {},
   "outputs": [],
   "source": [
    "submission.to_csv(\"submission.csv\", index=False)"
   ]
  }
 ],
 "metadata": {
  "kernelspec": {
   "display_name": "Python 3",
   "language": "python",
   "name": "python3"
  },
  "language_info": {
   "codemirror_mode": {
    "name": "ipython",
    "version": 3
   },
   "file_extension": ".py",
   "mimetype": "text/x-python",
   "name": "python",
   "nbconvert_exporter": "python",
   "pygments_lexer": "ipython3",
   "version": "3.6.4"
  }
 },
 "nbformat": 4,
 "nbformat_minor": 1
}
